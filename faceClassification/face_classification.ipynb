{
  "nbformat": 4,
  "nbformat_minor": 0,
  "metadata": {
    "colab": {
      "name": "face_classification.ipynb",
      "version": "0.3.2",
      "provenance": []
    },
    "kernelspec": {
      "name": "python3",
      "display_name": "Python 3"
    },
    "accelerator": "GPU"
  },
  "cells": [
    {
      "cell_type": "code",
      "metadata": {
        "id": "ALWuKTYv8H9A",
        "colab_type": "code",
        "colab": {}
      },
      "source": [
        "# !pip install -q torch==1.1.0 torchvision\n",
        "# !pip install opencv-python # requirement already satisfied\n",
        "# written in python3"
      ],
      "execution_count": 0,
      "outputs": []
    },
    {
      "cell_type": "code",
      "metadata": {
        "id": "cVxDAGDM8J4o",
        "colab_type": "code",
        "colab": {}
      },
      "source": [
        "import numpy as np\n",
        "import torch\n",
        "import torchvision\n",
        "import torchvision.transforms as transforms\n",
        "import torch.nn as nn\n",
        "import torch.nn.functional as F\n",
        "import torch.optim as optim\n",
        "\n",
        "import matplotlib.pyplot as plt\n",
        "import random\n",
        "import math\n",
        "import time\n",
        "\n",
        "import os\n",
        "import cv2\n",
        "\n",
        "from sklearn.model_selection import train_test_split"
      ],
      "execution_count": 0,
      "outputs": []
    },
    {
      "cell_type": "code",
      "metadata": {
        "id": "KsA5I9mQoASQ",
        "colab_type": "code",
        "outputId": "518cacd9-f887-40cb-d3ab-74e68d30df33",
        "colab": {
          "base_uri": "https://localhost:8080/",
          "height": 124
        }
      },
      "source": [
        "from google.colab import drive\n",
        "drive.mount('/content/gdrive')"
      ],
      "execution_count": 0,
      "outputs": [
        {
          "output_type": "stream",
          "text": [
            "Go to this URL in a browser: https://accounts.google.com/o/oauth2/auth?client_id=947318989803-6bn6qk8qdgf4n4g3pfee6491hc0brc4i.apps.googleusercontent.com&redirect_uri=urn%3Aietf%3Awg%3Aoauth%3A2.0%3Aoob&scope=email%20https%3A%2F%2Fwww.googleapis.com%2Fauth%2Fdocs.test%20https%3A%2F%2Fwww.googleapis.com%2Fauth%2Fdrive%20https%3A%2F%2Fwww.googleapis.com%2Fauth%2Fdrive.photos.readonly%20https%3A%2F%2Fwww.googleapis.com%2Fauth%2Fpeopleapi.readonly&response_type=code\n",
            "\n",
            "Enter your authorization code:\n",
            "··········\n",
            "Mounted at /content/gdrive\n"
          ],
          "name": "stdout"
        }
      ]
    },
    {
      "cell_type": "code",
      "metadata": {
        "id": "v7dtUnlx8J2O",
        "colab_type": "code",
        "outputId": "1e644239-8323-474c-b479-6d4fc284a55d",
        "colab": {
          "base_uri": "https://localhost:8080/",
          "height": 52
        }
      },
      "source": [
        "# torch version check\n",
        "print(\"pytorch version:\", torch.__version__)\n",
        "\n",
        "# cuda check\n",
        "if torch.cuda.is_available(): device = torch.device(\"cuda\")\n",
        "else: device = torch.device(\"cpu\")\n",
        "print(\"device:\", device)"
      ],
      "execution_count": 0,
      "outputs": [
        {
          "output_type": "stream",
          "text": [
            "pytorch version: 1.1.0\n",
            "device: cuda\n"
          ],
          "name": "stdout"
        }
      ]
    },
    {
      "cell_type": "code",
      "metadata": {
        "id": "Kma9OVmJR7GG",
        "colab_type": "code",
        "colab": {}
      },
      "source": [
        "def read_img(path):\n",
        "    image = []\n",
        "    label = []\n",
        "        \n",
        "    print(\"Working Directory:\", path)\n",
        "        \n",
        "    if   path.endswith(\"real\"): LABEL = \"real\" \n",
        "    elif path.endswith(\"fake\"): LABEL = \"fake\"\n",
        "    elif path.endswith(\"gan\"):  LABEL = \"gan\"\n",
        "\n",
        "    dir_list = os.listdir(path)\n",
        "    file_count = len(dir_list)\n",
        "        \n",
        "    for directory in dir_list:\n",
        "        if directory.endswith(\".jpg\"):\n",
        "        # try reading image in grayscale\n",
        "            \n",
        "            try:\n",
        "                img = cv2.imread(str(path + \"/\" + directory), 0)\n",
        "                image.append(img)\n",
        "                label.append(LABEL)\n",
        "\n",
        "            except FileNotFoundError:\n",
        "                print(\"Something's Wrong with training dataset path:\", directory)\n",
        "                continue\n",
        "    \n",
        "    return (np.asarray(image), np.asarray(label))"
      ],
      "execution_count": 0,
      "outputs": []
    },
    {
      "cell_type": "code",
      "metadata": {
        "id": "iM4QyJ8Vw3Ur",
        "colab_type": "code",
        "colab": {}
      },
      "source": [
        "def shuffle_both(x, y):\n",
        "    assert len(x) == len(y)\n",
        "    p = np.random.permutation(len(x))\n",
        "    return x[p], y[p]"
      ],
      "execution_count": 0,
      "outputs": []
    },
    {
      "cell_type": "markdown",
      "metadata": {
        "id": "Kz1h-FOapuVD",
        "colab_type": "text"
      },
      "source": [
        "load data"
      ]
    },
    {
      "cell_type": "code",
      "metadata": {
        "id": "Syjzohmij4AH",
        "colab_type": "code",
        "outputId": "00d3e3ca-4053-46f2-ae4f-6c25c6291aef",
        "colab": {
          "base_uri": "https://localhost:8080/",
          "height": 34
        }
      },
      "source": [
        "real_path = \"/content/gdrive/My Drive/Colab Notebooks/real\"\n",
        "fake_path = \"/content/gdrive/My Drive/Colab Notebooks/fake\"\n",
        "gan_path  = \"/content/gdrive/My Drive/Colab Notebooks/gan\"\n",
        "\n",
        "# real_x, real_y = read_img(real_path)\n",
        "# fake_x, fake_y = read_img(fake_path)\n",
        "gan_x , gan_y  = read_img(gan_path)"
      ],
      "execution_count": 0,
      "outputs": [
        {
          "output_type": "stream",
          "text": [
            "Working Directory: /content/gdrive/My Drive/Colab Notebooks/gan\n"
          ],
          "name": "stdout"
        }
      ]
    },
    {
      "cell_type": "markdown",
      "metadata": {
        "id": "UjwTxHb3o0aC",
        "colab_type": "text"
      },
      "source": [
        "extract validation set from train set"
      ]
    },
    {
      "cell_type": "code",
      "metadata": {
        "id": "VdKXg6gEnb4b",
        "colab_type": "code",
        "outputId": "6ce957cb-22b2-4a3a-f2cc-eb4201467e16",
        "colab": {
          "base_uri": "https://localhost:8080/",
          "height": 385
        }
      },
      "source": [
        "# shuffle\n",
        "# we don't have to shuffle Ys because they are all in the same label\n",
        "# real_x = np.random.shuffle(real_x)\n",
        "# fake_x = np.random.shuffle(fake_x)\n",
        "gan_x  = np.random.shuffle(gan_x)\n",
        "\n",
        "# replace string labels with numbers\n",
        "labels_map = {0 : 'real', 1 : 'fake', 2 : 'gan'}\n",
        "# real_y = np.repeat(0, len(real_y))\n",
        "# fake_y = np.repeat(1, len(fake_y))\n",
        "gan_y  = np.repeat(2, len( gan_y))\n",
        "\n",
        "# split train & validation set in 8:2\n",
        "# real\n",
        "# real_train_x, real_eval_x, real_train_y, real_eval_y = train_test_split(real_x, real_y, test_size=0.2)\n",
        "# fake\n",
        "# fake_train_x, fake_eval_x, fake_train_y, fake_eval_y = train_test_split(fake_x, fake_y, test_size=0.2)\n",
        "# gan\n",
        "gan_train_x , gan_eval_x , gan_train_y , gan_eval_y  = train_test_split(gan_x , gan_y, test_size=0.2)\n",
        "\n",
        "# concatenate\n",
        "# train_x = np.concatenate((real_train_x, fake_train_x, gan_train_x), axis=0)\n",
        "# train_y = np.concatenate((real_train_y, fake_train_y, gan_train_y), axis=0)\n",
        "# validate_x  = np.concatenate((real_eval_x , fake_eval_x , gan_eval_x ), axis=0)\n",
        "# validate_y  = np.concatenate((real_eval_y , fake_eval_y , gan_eval_y ), axis=0)\n",
        "\n",
        "# shuffle again\n",
        "# (train_x, train_y) = shuffle_both(train_x, train_y)\n",
        "# (validate_x, validate_y) = shuffle_both(validate_x, validate_y)"
      ],
      "execution_count": 0,
      "outputs": [
        {
          "output_type": "error",
          "ename": "TypeError",
          "evalue": "ignored",
          "traceback": [
            "\u001b[0;31m---------------------------------------------------------------------------\u001b[0m",
            "\u001b[0;31mTypeError\u001b[0m                                 Traceback (most recent call last)",
            "\u001b[0;32m<ipython-input-8-8c43c773386f>\u001b[0m in \u001b[0;36m<module>\u001b[0;34m()\u001b[0m\n\u001b[1;32m     13\u001b[0m \u001b[0;31m# fake_train_x, fake_eval_x, fake_train_y, fake_eval_y = train_test_split(fake_x, fake_y, test_size=0.2)\u001b[0m\u001b[0;34m\u001b[0m\u001b[0;34m\u001b[0m\u001b[0;34m\u001b[0m\u001b[0m\n\u001b[1;32m     14\u001b[0m \u001b[0;31m# gan\u001b[0m\u001b[0;34m\u001b[0m\u001b[0;34m\u001b[0m\u001b[0;34m\u001b[0m\u001b[0m\n\u001b[0;32m---> 15\u001b[0;31m \u001b[0mgan_train_x\u001b[0m \u001b[0;34m,\u001b[0m \u001b[0mgan_eval_x\u001b[0m \u001b[0;34m,\u001b[0m \u001b[0mgan_train_y\u001b[0m \u001b[0;34m,\u001b[0m \u001b[0mgan_eval_y\u001b[0m  \u001b[0;34m=\u001b[0m \u001b[0mtrain_test_split\u001b[0m\u001b[0;34m(\u001b[0m\u001b[0mgan_x\u001b[0m \u001b[0;34m,\u001b[0m \u001b[0mgan_y\u001b[0m\u001b[0;34m,\u001b[0m \u001b[0mtest_size\u001b[0m\u001b[0;34m=\u001b[0m\u001b[0;36m0.2\u001b[0m\u001b[0;34m)\u001b[0m\u001b[0;34m\u001b[0m\u001b[0;34m\u001b[0m\u001b[0m\n\u001b[0m\u001b[1;32m     16\u001b[0m \u001b[0;34m\u001b[0m\u001b[0m\n\u001b[1;32m     17\u001b[0m \u001b[0;31m# concatenate\u001b[0m\u001b[0;34m\u001b[0m\u001b[0;34m\u001b[0m\u001b[0;34m\u001b[0m\u001b[0m\n",
            "\u001b[0;32m/usr/local/lib/python3.6/dist-packages/sklearn/model_selection/_split.py\u001b[0m in \u001b[0;36mtrain_test_split\u001b[0;34m(*arrays, **options)\u001b[0m\n\u001b[1;32m   2096\u001b[0m     \u001b[0marrays\u001b[0m \u001b[0;34m=\u001b[0m \u001b[0mindexable\u001b[0m\u001b[0;34m(\u001b[0m\u001b[0;34m*\u001b[0m\u001b[0marrays\u001b[0m\u001b[0;34m)\u001b[0m\u001b[0;34m\u001b[0m\u001b[0;34m\u001b[0m\u001b[0m\n\u001b[1;32m   2097\u001b[0m \u001b[0;34m\u001b[0m\u001b[0m\n\u001b[0;32m-> 2098\u001b[0;31m     \u001b[0mn_samples\u001b[0m \u001b[0;34m=\u001b[0m \u001b[0m_num_samples\u001b[0m\u001b[0;34m(\u001b[0m\u001b[0marrays\u001b[0m\u001b[0;34m[\u001b[0m\u001b[0;36m0\u001b[0m\u001b[0;34m]\u001b[0m\u001b[0;34m)\u001b[0m\u001b[0;34m\u001b[0m\u001b[0;34m\u001b[0m\u001b[0m\n\u001b[0m\u001b[1;32m   2099\u001b[0m     n_train, n_test = _validate_shuffle_split(n_samples, test_size, train_size,\n\u001b[1;32m   2100\u001b[0m                                               default_test_size=0.25)\n",
            "\u001b[0;32m/usr/local/lib/python3.6/dist-packages/sklearn/utils/validation.py\u001b[0m in \u001b[0;36m_num_samples\u001b[0;34m(x)\u001b[0m\n\u001b[1;32m    140\u001b[0m         \u001b[0;32melse\u001b[0m\u001b[0;34m:\u001b[0m\u001b[0;34m\u001b[0m\u001b[0;34m\u001b[0m\u001b[0m\n\u001b[1;32m    141\u001b[0m             raise TypeError(\"Expected sequence or array-like, got %s\" %\n\u001b[0;32m--> 142\u001b[0;31m                             type(x))\n\u001b[0m\u001b[1;32m    143\u001b[0m     \u001b[0;32mif\u001b[0m \u001b[0mhasattr\u001b[0m\u001b[0;34m(\u001b[0m\u001b[0mx\u001b[0m\u001b[0;34m,\u001b[0m \u001b[0;34m'shape'\u001b[0m\u001b[0;34m)\u001b[0m\u001b[0;34m:\u001b[0m\u001b[0;34m\u001b[0m\u001b[0;34m\u001b[0m\u001b[0m\n\u001b[1;32m    144\u001b[0m         \u001b[0;32mif\u001b[0m \u001b[0mlen\u001b[0m\u001b[0;34m(\u001b[0m\u001b[0mx\u001b[0m\u001b[0;34m.\u001b[0m\u001b[0mshape\u001b[0m\u001b[0;34m)\u001b[0m \u001b[0;34m==\u001b[0m \u001b[0;36m0\u001b[0m\u001b[0;34m:\u001b[0m\u001b[0;34m\u001b[0m\u001b[0;34m\u001b[0m\u001b[0m\n",
            "\u001b[0;31mTypeError\u001b[0m: Expected sequence or array-like, got <class 'NoneType'>"
          ]
        }
      ]
    },
    {
      "cell_type": "markdown",
      "metadata": {
        "id": "rSIDkN58xNGv",
        "colab_type": "text"
      },
      "source": [
        "Visualize some images"
      ]
    },
    {
      "cell_type": "code",
      "metadata": {
        "id": "NfUeH8MUnbxi",
        "colab_type": "code",
        "colab": {}
      },
      "source": [
        "# labels_map = {0 : 'real', 1 : 'fake', 2 : 'gan'}\n",
        "# fig = plt.figure(figsize=(8,8));\n",
        "# columns = 4;\n",
        "# rows = 5;\n",
        "# for i in range(1, columns*rows +1):\n",
        "#     ind = np.random.randint(len(train_x));\n",
        "#     img = train_x[ind][0][0,:,:]\n",
        "#     fig.add_subplot(rows, columns, i)\n",
        "#     plt.title(labels_map[train_y])\n",
        "#     plt.axis('off')\n",
        "#     plt.imshow(img, cmap='gray')\n",
        "# plt.show()"
      ],
      "execution_count": 0,
      "outputs": []
    },
    {
      "cell_type": "code",
      "metadata": {
        "id": "vZ8idApjnbnc",
        "colab_type": "code",
        "outputId": "c2f8ab25-a942-416f-8bc2-229f54a1784a",
        "colab": {
          "base_uri": "https://localhost:8080/",
          "height": 168
        }
      },
      "source": [
        "gan_train_x"
      ],
      "execution_count": 0,
      "outputs": [
        {
          "output_type": "error",
          "ename": "NameError",
          "evalue": "ignored",
          "traceback": [
            "\u001b[0;31m---------------------------------------------------------------------------\u001b[0m",
            "\u001b[0;31mNameError\u001b[0m                                 Traceback (most recent call last)",
            "\u001b[0;32m<ipython-input-9-56f9bd7d5ade>\u001b[0m in \u001b[0;36m<module>\u001b[0;34m()\u001b[0m\n\u001b[0;32m----> 1\u001b[0;31m \u001b[0mgan_train_x\u001b[0m\u001b[0;34m\u001b[0m\u001b[0;34m\u001b[0m\u001b[0m\n\u001b[0m",
            "\u001b[0;31mNameError\u001b[0m: name 'gan_train_x' is not defined"
          ]
        }
      ]
    },
    {
      "cell_type": "code",
      "metadata": {
        "id": "-1NSjACrHIxF",
        "colab_type": "code",
        "colab": {}
      },
      "source": [
        "gan_train_y"
      ],
      "execution_count": 0,
      "outputs": []
    }
  ]
}