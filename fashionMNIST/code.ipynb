{
 "cells": [
  {
   "cell_type": "code",
   "execution_count": null,
   "metadata": {
    "colab": {},
    "colab_type": "code",
    "id": "yWJGdm0Y6USh"
   },
   "outputs": [],
   "source": [
    "# written in python3"
   ]
  },
  {
   "cell_type": "code",
   "execution_count": null,
   "metadata": {
    "colab": {},
    "colab_type": "code",
    "id": "y5zQDa0S6gsq"
   },
   "outputs": [],
   "source": [
    "import numpy as np\n",
    "import torch\n",
    "import torchvision\n",
    "import torchvision.transforms as transforms\n",
    "import torch.nn as nn\n",
    "import torch.nn.functional as F\n",
    "import torch.optim as optim\n",
    "\n",
    "import matplotlib.pyplot as plt\n",
    "import random\n",
    "import math\n",
    "import time"
   ]
  },
  {
   "cell_type": "code",
   "execution_count": null,
   "metadata": {
    "colab": {
     "base_uri": "https://localhost:8080/",
     "height": 52
    },
    "colab_type": "code",
    "id": "UCARjhxPHCuU",
    "outputId": "50951014-3038-4ccc-fb23-c7975659027b"
   },
   "outputs": [],
   "source": [
    "# torch version check\n",
    "print(\"pytorch version:\", torch.__version__)"
   ]
  },
  {
   "cell_type": "markdown",
   "metadata": {},
   "source": [
    "### Task0"
   ]
  },
  {
   "cell_type": "markdown",
   "metadata": {},
   "source": [
    "Load data"
   ]
  },
  {
   "cell_type": "code",
   "execution_count": null,
   "metadata": {
    "colab": {
     "base_uri": "https://localhost:8080/",
     "height": 282
    },
    "colab_type": "code",
    "id": "Y7qedjR58D7_",
    "outputId": "fe3ff598-fe03-4ff0-b5a4-e97de65988a0"
   },
   "outputs": [],
   "source": [
    "# Define a transform to normalize the data\n",
    "transform = transforms.Compose([torchvision.transforms.ToTensor(), torchvision.transforms.Normalize((0.5,), (0.5,))])\n",
    "\n",
    "# Download and load the training data\n",
    "trainset = torchvision.datasets.FashionMNIST('F_MNIST_data/', download=True, train=True, transform=transform)\n",
    "\n",
    "# Download and load the test data\n",
    "testset = torchvision.datasets.FashionMNIST('F_MNIST_data/', download=True, train=False, transform=transform)\n",
    "\n",
    "classes = ('T-Shirt', 'Trouser', 'Pullover', 'Dress', 'Coat', 'Sandal', 'Shirt', 'Sneaker', 'Bag', 'Ankle Boot')"
   ]
  },
  {
   "cell_type": "markdown",
   "metadata": {
    "colab_type": "text",
    "id": "8qM26Bzu94Ss"
   },
   "source": [
    "Visualize some images"
   ]
  },
  {
   "cell_type": "code",
   "execution_count": null,
   "metadata": {
    "colab": {
     "base_uri": "https://localhost:8080/",
     "height": 499
    },
    "colab_type": "code",
    "id": "8_I6Q0qG-f6p",
    "outputId": "f59bfd76-2f53-4486-c8e3-bc8ffd158e23"
   },
   "outputs": [],
   "source": [
    "labels_map = {0 : 'T-Shirt', 1 : 'Trouser', 2 : 'Pullover', 3 : 'Dress', 4 : 'Coat', \n",
    "              5 : 'Sandal', 6 : 'Shirt', 7 : 'Sneaker', 8 : 'Bag', 9 : 'Ankle Boot'};\n",
    "\n",
    "fig = plt.figure(figsize=(8,8));\n",
    "columns = 4;\n",
    "rows = 5;\n",
    "for i in range(1, columns*rows +1):\n",
    "    img_xy = np.random.randint(len(trainset));\n",
    "    img = trainset[img_xy][0][0,:,:]\n",
    "    fig.add_subplot(rows, columns, i)\n",
    "    plt.title(labels_map[trainset[img_xy][1]])\n",
    "    plt.axis('off')\n",
    "    plt.imshow(img, cmap='gray')\n",
    "plt.show()"
   ]
  },
  {
   "cell_type": "markdown",
   "metadata": {},
   "source": [
    "### Task1"
   ]
  },
  {
   "cell_type": "markdown",
   "metadata": {
    "colab_type": "text",
    "id": "EvJIbO-zBSSC"
   },
   "source": [
    "Construct following two networks:"
   ]
  },
  {
   "cell_type": "markdown",
   "metadata": {},
   "source": [
    "1. Fully Connected Network"
   ]
  },
  {
   "cell_type": "code",
   "execution_count": null,
   "metadata": {
    "colab": {},
    "colab_type": "code",
    "id": "ujb-pEMLEe73"
   },
   "outputs": [],
   "source": [
    "class FullyConnectedNetwork(nn.Module):\n",
    "    \n",
    "    # hidden_layer should be between 0 ~ 2\n",
    "    def __init__(self, input_size= 28*28, hidden_size=1024, hidden_layer=2, output_size=10):\n",
    "        super(FullyConnectedNetwork, self).__init__()\n",
    "        \n",
    "        self.hidden_layer = hidden_layer\n",
    "        if hidden_layer == 0:\n",
    "            self.fc1 = nn.Linear(input_size, output_size)\n",
    "        elif hidden_layer == 1:\n",
    "            self.fc1 = nn.Linear(input_size, hidden_size)\n",
    "            self.fc2 = nn.Linear(hidden_size, output_size)\n",
    "        elif hidden_layer == 2:\n",
    "            self.fc1 = nn.Linear(input_size, hidden_size)\n",
    "            self.fc2 = nn.Linear(hidden_size, hidden_size)\n",
    "            self.fc3 = nn.Linear(hidden_size, output_size)\n",
    "        \n",
    "    def forward(self, x) :\n",
    "        # x: trainset\n",
    "        \n",
    "        if self.hidden_layer == 1:\n",
    "            x = F.log_softmax(self.fc1(x), dim=1)\n",
    "            return x\n",
    "        elif self.hidden_layer == 2:\n",
    "            x = F.relu(self.fc1(x))\n",
    "            x = F.log_softmax(self.fc2(x), dim=1)\n",
    "            return x\n",
    "        elif self.hidden_layer == 3:\n",
    "            x = F.relu(self.fc1(x))\n",
    "            x = F.relu(self.fc2(x))\n",
    "            x = F.log_softmax(self.fc3(x), dim=1)\n",
    "            return x"
   ]
  },
  {
   "cell_type": "markdown",
   "metadata": {
    "colab_type": "text",
    "id": "iUz_vxQhOhCY"
   },
   "source": [
    "2. LeNet (CNN)"
   ]
  },
  {
   "cell_type": "code",
   "execution_count": null,
   "metadata": {
    "colab": {},
    "colab_type": "code",
    "id": "Y3B7tFz6Ogxs"
   },
   "outputs": [],
   "source": [
    "class LeNet5(nn.Module):\n",
    "    def __init__(self):\n",
    "        super(LeNet5, self).__init__()\n",
    "        self.layer1 = nn.Sequential( \n",
    "                            nn.Conv2d(1, 6,  kernel_size=5, padding=2), \n",
    "                            nn.BatchNorm2d(6),  \n",
    "                            nn.ReLU(), \n",
    "                            nn.MaxPool2d(2)\n",
    "                        )\n",
    "        self.layer2 = nn.Sequential( \n",
    "                            nn.Conv2d(6, 16, kernel_size=5, padding=2), \n",
    "                            nn.BatchNorm2d(16), \n",
    "                            nn.ReLU(), \n",
    "                            nn.MaxPool2d(2)\n",
    "                        )\n",
    "        self.fc1    = nn.Sequential( nn.Linear(7*7*16, 120), nn.ReLU())\n",
    "        self.fc2    = nn.Sequential( nn.Linear(120, 84),     nn.ReLU())\n",
    "        self.fc3    = nn.Sequential( nn.Linear(84, 10) )\n",
    "        \n",
    "    def forward(self, x):\n",
    "        x = self.layer1(x)\n",
    "        x = self.layer2(x)\n",
    "        \n",
    "        x = x.view(x.size(0), -1)\n",
    "        \n",
    "        x = self.fc1(x)\n",
    "        x = self.fc2(x)\n",
    "        x = F.log_softmax(self.fc3(x), dim=1)\n",
    "        \n",
    "        return x"
   ]
  },
  {
   "cell_type": "markdown",
   "metadata": {},
   "source": [
    "Also construct train & test functions"
   ]
  },
  {
   "cell_type": "code",
   "execution_count": null,
   "metadata": {
    "colab": {},
    "colab_type": "code",
    "id": "zOnaElRjhsdq"
   },
   "outputs": [],
   "source": [
    "# model: either FCN(Fully Connected Network) or CNN (LeNet)\n",
    "# we assume that the trainset, and nets were globally defined\n",
    "def train(MODEL, EPOCH=30, LEARNING_RATE=0.01, LOSS_FUNCTION=\"CrossEntropy\", OPTIMIZER=\"SGD\",\n",
    "          MOMENTUM=0.9, WEIGHT_DECAY=0.0, BATCH_SIZE=128, SHOW_PROCESS=True):\n",
    "    \n",
    "    # spare validation set from traning set\n",
    "    validation_split = .1\n",
    "    shuffle_dataset = True\n",
    "    random_seed= 2015171019\n",
    "\n",
    "    # Creating data indices for training and validation splits:\n",
    "    dataset_size = len(trainset)\n",
    "    indices = list(range(dataset_size))\n",
    "    split = int(np.floor(validation_split * dataset_size))\n",
    "    if shuffle_dataset :\n",
    "        np.random.seed(random_seed)\n",
    "        np.random.shuffle(indices)\n",
    "    train_indices, val_indices = indices[split:], indices[:split]\n",
    "\n",
    "    # Creating PT data samplers and loaders:\n",
    "    train_sampler = torch.utils.data.sampler.SubsetRandomSampler(train_indices)\n",
    "    valid_sampler = torch.utils.data.sampler.SubsetRandomSampler(val_indices)\n",
    "\n",
    "    train_loader = torch.utils.data.DataLoader(trainset, batch_size=BATCH_SIZE, sampler=train_sampler)\n",
    "    validation_loader = torch.utils.data.DataLoader(trainset, batch_size=BATCH_SIZE, sampler=valid_sampler)\n",
    "    \n",
    "    if MODEL == \"FCN\":\n",
    "        net = FullyConnectedNetwork()\n",
    "    elif MODEL == \"CNN\":\n",
    "        net = LeNet5()\n",
    "    # for task2\n",
    "    elif MODEL == \"AVGPOOL\": # try average pooling\n",
    "        net = LeNet5_AvgPool()\n",
    "    elif MODEL == \"MAXPOOL4\": # try average pooling\n",
    "        net = LeNet5_MaxPool4()\n",
    "    elif MODEL == \"KERNEL3\": # try kernel size = 3\n",
    "        net = LeNet3()\n",
    "    elif MODEL == \"KERNEL7\": # try kernel size = 7\n",
    "        net = LeNet7()\n",
    "        \n",
    "    # cuda check\n",
    "    if torch.cuda.is_available(): device = torch.device(\"cuda:0\")\n",
    "    else: device = torch.device(\"cpu\")\n",
    "    print(\"device:\", device)\n",
    "    net.to(device)\n",
    "    \n",
    "    if SHOW_PROCESS: print(net)\n",
    "    \n",
    "    # initialize optimizers\n",
    "    # create a stochastic gradient descent optimizer\n",
    "    if OPTIMIZER== \"SGD\":         \n",
    "        optimizer = optim.SGD(net.parameters(), lr=LEARNING_RATE, \n",
    "                            momentum=MOMENTUM, weight_decay=WEIGHT_DECAY)\n",
    "    elif OPTIMIZER== \"Adam\": \n",
    "        optimizer = optim.Adam(net.parameters(), lr=LEARNING_RATE, \n",
    "                               weight_decay=WEIGHT_DECAY)\n",
    "        \n",
    "    # create a loss function\n",
    "    if LOSS_FUNCTION == \"CrossEntropy\": \n",
    "        criterion = nn.CrossEntropyLoss()\n",
    "    elif LOSS_FUNCTION == \"NLL\": \n",
    "        criterion = nn.NLLLoss()\n",
    "    elif LOSS_FUNCTION == \"KLD\": \n",
    "        criterion = nn.KLDivLoss()\n",
    "        \n",
    "    losses = []       # for visualizing the loss\n",
    "    running_time = 0  # for visualizing running time\n",
    "    start_time = time.time() # for running time meausre\n",
    "    \n",
    "    best_net = net\n",
    "    best_acc = 0.0\n",
    "    \n",
    "    epoch = range(EPOCH)\n",
    "    for e in epoch:\n",
    "        \n",
    "        for batch_idx, (images, labels) in enumerate(train_loader, 0):\n",
    "\n",
    "            # resize data from (batch_size, 1, 28, 28) to (batch_size, 28*28)\n",
    "            if MODEL == \"FCN\": images = images.view(-1, 28*28)\n",
    "            \n",
    "            images = images.cuda()\n",
    "            labels = labels.cuda()\n",
    "            \n",
    "            # zero the parameter gradients\n",
    "            optimizer.zero_grad()\n",
    "\n",
    "            # forward + backward + optimize\n",
    "            outputs = net(images)\n",
    "            loss = criterion(outputs, labels)\n",
    "            loss.backward()\n",
    "            optimizer.step()\n",
    "            \n",
    "        # end of inner for loop \n",
    "        \n",
    "        # every end of the epoch\n",
    "        # calcluate running time\n",
    "        cur_time = time.time()\n",
    "        elapsed_time = cur_time - start_time\n",
    "        \n",
    "        # append losses & time for plotting\n",
    "        losses.append(loss.item())\n",
    "        running_time += elapsed_time\n",
    "        \n",
    "        # validate\n",
    "        correct = 0; total = 0\n",
    "        with torch.no_grad():\n",
    "            for (images, labels) in validation_loader:\n",
    "\n",
    "                # resize data from (batch_size, 1, 28, 28) to (batch_size, 28*28)\n",
    "                if MODEL == \"FCN\": images = images.view(-1, 28*28)\n",
    "                \n",
    "                images = images.cuda()\n",
    "                labels = labels.cuda()\n",
    "                \n",
    "                outputs = net(images)\n",
    "                _, predicted = torch.max(outputs.data, 1)\n",
    "                total += labels.size(0)\n",
    "                correct += (predicted == labels).sum().item()\n",
    "\n",
    "        # print statistics\n",
    "        if SHOW_PROCESS:\n",
    "            if best_acc <= round(100*correct/total, 8):\n",
    "                print(\n",
    "                    '''Epoch:{:>3} | Loss: {:>.6f} | Elapsed: {:<5} sec | Validation Accuracy: {:<.2f}(best!)\n",
    "                    '''.format(e, loss.item(), round(elapsed_time, 2), round(100*correct/total, 2))\n",
    "                    )\n",
    "                best_net = net\n",
    "                best_acc = round(100*correct/total, 8)\n",
    "            else:\n",
    "                print(\n",
    "                    '''Epoch:{:>3} | Loss: {:>.6f} | Elapsed: {:<5} sec | Validation Accuracy: {:<.2f}\n",
    "                    '''.format(e, loss.item(), round(elapsed_time, 2), round(100*correct/total, 2))\n",
    "                    )\n",
    "                \n",
    "        # reset variables for next loop\n",
    "        start_time = time.time()\n",
    "\n",
    "    # loss validation\n",
    "    plt.xkcd()\n",
    "    plt.xlabel('Epoch #')\n",
    "    plt.ylabel('Loss')\n",
    "    plt.plot(losses)\n",
    "    plt.show()\n",
    "    \n",
    "    # running time summary\n",
    "    print(\"Total training time:\", round(running_time, 2), \"seconds\")\n",
    "    print(\"Average running time per epoch:\", round(running_time/EPOCH, 2), \"seconds\")\n",
    "    \n",
    "    return best_net\n",
    "    \n",
    "def test(NET, MODEL):\n",
    "    \n",
    "    testloader = torch.utils.data.DataLoader(testset, batch_size=100, shuffle=False, num_workers=2)\n",
    "    \n",
    "    net = NET\n",
    "    \n",
    "    correct = 0\n",
    "    total = 0\n",
    "    with torch.no_grad():\n",
    "        for (images, labels) in testloader:\n",
    "            \n",
    "            # resize data from (batch_size, 1, 28, 28) to (batch_size, 28*28)\n",
    "            if MODEL == \"FCN\": images = images.view(-1, 28*28)\n",
    "            \n",
    "            images = images.cuda()\n",
    "            labels = labels.cuda()\n",
    "            \n",
    "            outputs = net(images)\n",
    "            _, predicted = torch.max(outputs.data, 1)\n",
    "            total += labels.size(0)\n",
    "            correct += (predicted == labels).sum().item()\n",
    "\n",
    "    print('Accuracy of the network on the {} test images: {:.6f}'.format(len(testset), round(100*correct/total, 8)))\n",
    "    \n",
    "    return round(100*correct/total, 4)"
   ]
  },
  {
   "cell_type": "markdown",
   "metadata": {
    "colab_type": "text",
    "id": "ZVBZwjUqNCLK"
   },
   "source": [
    "##### Task1 Main Body"
   ]
  },
  {
   "cell_type": "code",
   "execution_count": null,
   "metadata": {
    "colab": {
     "base_uri": "https://localhost:8080/",
     "height": 349
    },
    "colab_type": "code",
    "id": "in26I9pGjEU8",
    "outputId": "5bfeef60-78a6-4674-fa7d-79fa1b19d6b8"
   },
   "outputs": [],
   "source": [
    "FCN = train(\"FCN\")\n",
    "_ = test(FCN, \"FCN\")"
   ]
  },
  {
   "cell_type": "code",
   "execution_count": null,
   "metadata": {
    "colab": {},
    "colab_type": "code",
    "id": "hyRU4iT3j7LC"
   },
   "outputs": [],
   "source": [
    "CNN = train(\"CNN\")\n",
    "_ = test(CNN, \"CNN\")"
   ]
  },
  {
   "cell_type": "markdown",
   "metadata": {
    "colab_type": "text",
    "id": "J4Y-HE4oR09x"
   },
   "source": [
    "### Task2"
   ]
  },
  {
   "cell_type": "markdown",
   "metadata": {},
   "source": [
    "Adjust hyperparameters and model structure"
   ]
  },
  {
   "cell_type": "markdown",
   "metadata": {
    "colab_type": "text",
    "id": "_9xDQUVdXOQh"
   },
   "source": [
    "1. Adjust Optimizer Parameters"
   ]
  },
  {
   "cell_type": "markdown",
   "metadata": {
    "colab_type": "text",
    "id": "1uxxCHcFrEBs"
   },
   "source": [
    "    A. Learning Rate"
   ]
  },
  {
   "cell_type": "code",
   "execution_count": null,
   "metadata": {
    "colab": {},
    "colab_type": "code",
    "id": "xN-3L9GIR0ZY"
   },
   "outputs": [],
   "source": [
    "learning_rate_list = [1e-04, 1e-03, 0.01, 0.1, 0.2]\n",
    "for l in learning_rate_list:\n",
    "    print(\"----------------------- Learnig Rate:\", l, \"-----------------------\")\n",
    "    CNN = train(\"CNN\", LEARNING_RATE=l, SHOW_PROCESS=False)\n",
    "    _ = test(CNN, \"CNN\")"
   ]
  },
  {
   "cell_type": "markdown",
   "metadata": {
    "colab_type": "text",
    "id": "d0VGwis0rKBs"
   },
   "source": [
    "    B. Momentum"
   ]
  },
  {
   "cell_type": "code",
   "execution_count": null,
   "metadata": {
    "colab": {},
    "colab_type": "code",
    "id": "C_ICbNgYR0VA"
   },
   "outputs": [],
   "source": [
    "momentum_list = [0, 0.5, 0.9, 0.99]\n",
    "for m in momentum_list:\n",
    "    print(\"----------------------- Momentum:\", m, \"-----------------------\")    \n",
    "    CNN = train(\"CNN\", MOMENTUM=m, SHOW_PROCESS=False)\n",
    "    _ = test(CNN, \"CNN\")"
   ]
  },
  {
   "cell_type": "markdown",
   "metadata": {
    "colab_type": "text",
    "id": "JrGXJKMnrMbB"
   },
   "source": [
    "    C. L2 Regularization Penalty"
   ]
  },
  {
   "cell_type": "code",
   "execution_count": null,
   "metadata": {
    "colab": {},
    "colab_type": "code",
    "id": "D30Zz3APoPnl"
   },
   "outputs": [],
   "source": [
    "weight_decay_list = [0, 1e-03, 0.1]\n",
    "for w in weight_decay_list:\n",
    "    print(\"----------------------- L2 Regularization:\", w, \"-----------------------\")    \n",
    "    CNN = train(\"CNN\", WEIGHT_DECAY=w, SHOW_PROCESS=False)\n",
    "    _ = test(CNN, \"CNN\")"
   ]
  },
  {
   "cell_type": "markdown",
   "metadata": {
    "colab_type": "text",
    "id": "f18IEZ9-rOhJ"
   },
   "source": [
    "2. Try Different Loss Function"
   ]
  },
  {
   "cell_type": "code",
   "execution_count": null,
   "metadata": {
    "colab": {},
    "colab_type": "code",
    "id": "iT7E0KRPrPZt"
   },
   "outputs": [],
   "source": [
    "# NLL for smaller, quicker training (simple tasks)\n",
    "# KLD can be achieved with CrossEntropy\n",
    "\n",
    "# TBD... More Loss Functions should be suggested\n",
    "\n",
    "# loss_function_list = [\"CrossEntropy\", \"NLL\"]\n",
    "\n",
    "# for l in loss_function_list:\n",
    "#     print(\"----------------------- Loss Function:\", l, \"-----------------------\")\n",
    "#     CNN = train(\"CNN\", LOSS_FUNCTION=l, SHOW_PROCESS=False)\n",
    "#     _ = test(CNN, \"CNN\")"
   ]
  },
  {
   "cell_type": "markdown",
   "metadata": {
    "colab_type": "text",
    "id": "-A1c_LtXsJjb"
   },
   "source": [
    "3. Use Different Batch Size"
   ]
  },
  {
   "cell_type": "code",
   "execution_count": null,
   "metadata": {
    "colab": {},
    "colab_type": "code",
    "id": "n5DjWWPSsMdo"
   },
   "outputs": [],
   "source": [
    "batch_size_list = [8, 32, 128, 512]\n",
    "for b in batch_size_list:\n",
    "    print(\"----------------------- Batch Size:\", b, \"-----------------------\")\n",
    "    CNN = train(\"CNN\", BATCH_SIZE=b, SHOW_PROCESS=False)\n",
    "    _ = test(CNN, \"CNN\")"
   ]
  },
  {
   "cell_type": "markdown",
   "metadata": {
    "colab_type": "text",
    "id": "d0XjflNmst0b"
   },
   "source": [
    "4. Change Other hyper parameters and model elements"
   ]
  },
  {
   "cell_type": "markdown",
   "metadata": {},
   "source": [
    "    A. try different pooling method (Average pooling)"
   ]
  },
  {
   "cell_type": "code",
   "execution_count": null,
   "metadata": {
    "colab": {},
    "colab_type": "code",
    "id": "S8UWh-D5szzr"
   },
   "outputs": [],
   "source": [
    "class LeNet5_AvgPool(nn.Module):\n",
    "    def __init__(self):\n",
    "        super(LeNet5_AvgPool, self).__init__()\n",
    "        self.layer1 = nn.Sequential( \n",
    "                            nn.Conv2d(1, 6,  kernel_size=5, padding=2), \n",
    "                            nn.BatchNorm2d(6),  \n",
    "                            nn.ReLU(), \n",
    "                            nn.AvgPool2d(2)\n",
    "                        )\n",
    "        self.layer2 = nn.Sequential( \n",
    "                            nn.Conv2d(6, 16, kernel_size=5, padding=2), \n",
    "                            nn.BatchNorm2d(16), \n",
    "                            nn.ReLU(), \n",
    "                            nn.AvgPool2d(2)\n",
    "                        )\n",
    "        self.fc1    = nn.Sequential( nn.Linear(7*7*16, 120), nn.ReLU())\n",
    "        self.fc2    = nn.Sequential( nn.Linear(120, 84),     nn.ReLU())\n",
    "        self.fc3    = nn.Sequential( nn.Linear(84, 10) )\n",
    "        \n",
    "    def forward(self, x):\n",
    "        x = self.layer1(x)\n",
    "        x = self.layer2(x)\n",
    "        \n",
    "        x = x.view(x.size(0), -1)\n",
    "        \n",
    "        x = self.fc1(x)\n",
    "        x = self.fc2(x)\n",
    "        x = F.log_softmax(self.fc3(x), dim=1)\n",
    "        \n",
    "        return x"
   ]
  },
  {
   "cell_type": "code",
   "execution_count": null,
   "metadata": {
    "colab": {},
    "colab_type": "code",
    "id": "RcJXQe04szdX"
   },
   "outputs": [],
   "source": [
    "print(\"----------------------- Average Pooling -----------------------\")\n",
    "CNN = train(\"AVGPOOL\")\n",
    "_ = test(CNN, \"CNN\")"
   ]
  },
  {
   "cell_type": "markdown",
   "metadata": {},
   "source": [
    "    B. try different kernel sizes (3 and 5)"
   ]
  },
  {
   "cell_type": "code",
   "execution_count": null,
   "metadata": {},
   "outputs": [],
   "source": [
    "class LeNet3(nn.Module):\n",
    "    def __init__(self):\n",
    "        super(LeNet3, self).__init__()\n",
    "        self.layer1 = nn.Sequential( \n",
    "                            nn.Conv2d(1, 6,  kernel_size=3, padding=1), \n",
    "                            nn.BatchNorm2d(6),  \n",
    "                            nn.ReLU(), \n",
    "                            nn.MaxPool2d(2)\n",
    "                        )\n",
    "        self.layer2 = nn.Sequential( \n",
    "                            nn.Conv2d(6, 16, kernel_size=3, padding=1), \n",
    "                            nn.BatchNorm2d(16), \n",
    "                            nn.ReLU(), \n",
    "                            nn.MaxPool2d(2)\n",
    "                        )\n",
    "        self.fc1    = nn.Sequential( nn.Linear(7*7*16, 120), nn.ReLU())\n",
    "        self.fc2    = nn.Sequential( nn.Linear(120, 84),     nn.ReLU())\n",
    "        self.fc3    = nn.Sequential( nn.Linear(84, 10) )\n",
    "        \n",
    "    def forward(self, x):\n",
    "        x = self.layer1(x)\n",
    "        x = self.layer2(x)\n",
    "        \n",
    "        x = x.view(x.size(0), -1)\n",
    "        \n",
    "        x = self.fc1(x)\n",
    "        x = self.fc2(x)\n",
    "        x = F.log_softmax(self.fc3(x), dim=1)\n",
    "        \n",
    "        return x\n",
    "    \n",
    "class LeNet7(nn.Module):\n",
    "    def __init__(self):\n",
    "        super(LeNet7, self).__init__()\n",
    "        self.layer1 = nn.Sequential( \n",
    "                            nn.Conv2d(1, 6,  kernel_size=7, padding=3), \n",
    "                            nn.BatchNorm2d(6),  \n",
    "                            nn.ReLU(), \n",
    "                            nn.MaxPool2d(2)\n",
    "                        )\n",
    "        self.layer2 = nn.Sequential( \n",
    "                            nn.Conv2d(6, 16, kernel_size=7, padding=3), \n",
    "                            nn.BatchNorm2d(16), \n",
    "                            nn.ReLU(), \n",
    "                            nn.MaxPool2d(2)\n",
    "                        )\n",
    "        self.fc1    = nn.Sequential( nn.Linear(7*7*16, 120), nn.ReLU())\n",
    "        self.fc2    = nn.Sequential( nn.Linear(120, 84),     nn.ReLU())\n",
    "        self.fc3    = nn.Sequential( nn.Linear(84, 10) )\n",
    "        \n",
    "    def forward(self, x):\n",
    "        x = self.layer1(x)\n",
    "        x = self.layer2(x)\n",
    "        \n",
    "        x = x.view(x.size(0), -1)\n",
    "        \n",
    "        x = self.fc1(x)\n",
    "        x = self.fc2(x)\n",
    "        x = F.log_softmax(self.fc3(x), dim=1)\n",
    "        \n",
    "        return x"
   ]
  },
  {
   "cell_type": "code",
   "execution_count": null,
   "metadata": {},
   "outputs": [],
   "source": [
    "print(\"----------------------- Kernel Size 3 -----------------------\")\n",
    "CNN = train(\"KERNEL3\")\n",
    "_ = test(CNN, \"CNN\")"
   ]
  },
  {
   "cell_type": "code",
   "execution_count": null,
   "metadata": {},
   "outputs": [],
   "source": [
    "print(\"----------------------- Kernel Size 7 -----------------------\")\n",
    "CNN = train(\"KERNEL7\")\n",
    "_ = test(CNN, \"CNN\")"
   ]
  },
  {
   "cell_type": "code",
   "execution_count": null,
   "metadata": {},
   "outputs": [],
   "source": []
  },
  {
   "cell_type": "code",
   "execution_count": null,
   "metadata": {},
   "outputs": [],
   "source": []
  }
 ],
 "metadata": {
  "accelerator": "GPU",
  "colab": {
   "collapsed_sections": [],
   "name": "code.ipynb",
   "provenance": [],
   "version": "0.3.2"
  },
  "kernelspec": {
   "display_name": "Python 3",
   "language": "python",
   "name": "python3"
  },
  "language_info": {
   "codemirror_mode": {
    "name": "ipython",
    "version": 3
   },
   "file_extension": ".py",
   "mimetype": "text/x-python",
   "name": "python",
   "nbconvert_exporter": "python",
   "pygments_lexer": "ipython3",
   "version": "3.7.0"
  }
 },
 "nbformat": 4,
 "nbformat_minor": 2
}
