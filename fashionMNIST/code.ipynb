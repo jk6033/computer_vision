{
  "nbformat": 4,
  "nbformat_minor": 0,
  "metadata": {
    "colab": {
      "name": "code.ipynb",
      "version": "0.3.2",
      "provenance": [],
      "collapsed_sections": []
    },
    "kernelspec": {
      "name": "python3",
      "display_name": "Python 3"
    },
    "accelerator": "GPU"
  },
  "cells": [
    {
      "cell_type": "code",
      "metadata": {
        "id": "yWJGdm0Y6USh",
        "colab_type": "code",
        "colab": {}
      },
      "source": [
        "# !pip install -q torch==1.1.0 torchvision\n",
        "# written in python3"
      ],
      "execution_count": 0,
      "outputs": []
    },
    {
      "cell_type": "code",
      "metadata": {
        "id": "y5zQDa0S6gsq",
        "colab_type": "code",
        "colab": {}
      },
      "source": [
        "import numpy as np\n",
        "import torch\n",
        "import torchvision\n",
        "import torchvision.transforms as transforms\n",
        "import torch.nn as nn\n",
        "import torch.nn.functional as F\n",
        "import torch.optim as optim\n",
        "\n",
        "import matplotlib.pyplot as plt\n",
        "import random\n",
        "import math\n",
        "import time"
      ],
      "execution_count": 0,
      "outputs": []
    },
    {
      "cell_type": "code",
      "metadata": {
        "id": "UCARjhxPHCuU",
        "colab_type": "code",
        "outputId": "50951014-3038-4ccc-fb23-c7975659027b",
        "colab": {
          "base_uri": "https://localhost:8080/",
          "height": 52
        }
      },
      "source": [
        "# torch version check\n",
        "print(\"pytorch version:\", torch.__version__)\n",
        "\n",
        "# cuda check\n",
        "if torch.cuda.is_available(): device = torch.device(\"cuda\")\n",
        "else: device = torch.device(\"cpu\")\n",
        "print(\"device:\", device)"
      ],
      "execution_count": 0,
      "outputs": [
        {
          "output_type": "stream",
          "text": [
            "pytorch version: 1.1.0\n",
            "device: cuda\n"
          ],
          "name": "stdout"
        }
      ]
    },
    {
      "cell_type": "code",
      "metadata": {
        "id": "Y7qedjR58D7_",
        "colab_type": "code",
        "outputId": "fe3ff598-fe03-4ff0-b5a4-e97de65988a0",
        "colab": {
          "base_uri": "https://localhost:8080/",
          "height": 282
        }
      },
      "source": [
        "# Define a transform to normalize the data\n",
        "transform = transforms.Compose([torchvision.transforms.ToTensor(), torchvision.transforms.Normalize((0.5,), (0.5,))])\n",
        "\n",
        "# Download and load the training data\n",
        "trainset = torchvision.datasets.FashionMNIST('F_MNIST_data/', download=True, train=True, transform=transform)\n",
        "\n",
        "# Download and load the test data\n",
        "testset = torchvision.datasets.FashionMNIST('F_MNIST_data/', download=True, train=False, transform=transform)\n",
        "\n",
        "classes = ('T-Shirt', 'Trouser', 'Pullover', 'Dress', 'Coat', 'Sandal', 'Shirt', 'Sneaker', 'Bag', 'Ankle Boot')"
      ],
      "execution_count": 0,
      "outputs": [
        {
          "output_type": "stream",
          "text": [
            "\r0it [00:00, ?it/s]"
          ],
          "name": "stderr"
        },
        {
          "output_type": "stream",
          "text": [
            "Downloading http://fashion-mnist.s3-website.eu-central-1.amazonaws.com/train-images-idx3-ubyte.gz to F_MNIST_data/FashionMNIST/raw/train-images-idx3-ubyte.gz\n"
          ],
          "name": "stdout"
        },
        {
          "output_type": "stream",
          "text": [
            "26427392it [00:04, 5951292.34it/s]                              \n"
          ],
          "name": "stderr"
        },
        {
          "output_type": "stream",
          "text": [
            "Extracting F_MNIST_data/FashionMNIST/raw/train-images-idx3-ubyte.gz\n"
          ],
          "name": "stdout"
        },
        {
          "output_type": "stream",
          "text": [
            "\r0it [00:00, ?it/s]"
          ],
          "name": "stderr"
        },
        {
          "output_type": "stream",
          "text": [
            "Downloading http://fashion-mnist.s3-website.eu-central-1.amazonaws.com/train-labels-idx1-ubyte.gz to F_MNIST_data/FashionMNIST/raw/train-labels-idx1-ubyte.gz\n"
          ],
          "name": "stdout"
        },
        {
          "output_type": "stream",
          "text": [
            "32768it [00:00, 37475.37it/s]                           \n",
            "0it [00:00, ?it/s]"
          ],
          "name": "stderr"
        },
        {
          "output_type": "stream",
          "text": [
            "Extracting F_MNIST_data/FashionMNIST/raw/train-labels-idx1-ubyte.gz\n",
            "Downloading http://fashion-mnist.s3-website.eu-central-1.amazonaws.com/t10k-images-idx3-ubyte.gz to F_MNIST_data/FashionMNIST/raw/t10k-images-idx3-ubyte.gz\n"
          ],
          "name": "stdout"
        },
        {
          "output_type": "stream",
          "text": [
            "4423680it [00:02, 1880286.65it/s]                            \n",
            "0it [00:00, ?it/s]"
          ],
          "name": "stderr"
        },
        {
          "output_type": "stream",
          "text": [
            "Extracting F_MNIST_data/FashionMNIST/raw/t10k-images-idx3-ubyte.gz\n",
            "Downloading http://fashion-mnist.s3-website.eu-central-1.amazonaws.com/t10k-labels-idx1-ubyte.gz to F_MNIST_data/FashionMNIST/raw/t10k-labels-idx1-ubyte.gz\n"
          ],
          "name": "stdout"
        },
        {
          "output_type": "stream",
          "text": [
            "8192it [00:00, 16633.65it/s]            "
          ],
          "name": "stderr"
        },
        {
          "output_type": "stream",
          "text": [
            "Extracting F_MNIST_data/FashionMNIST/raw/t10k-labels-idx1-ubyte.gz\n",
            "Processing...\n",
            "Done!\n"
          ],
          "name": "stdout"
        },
        {
          "output_type": "stream",
          "text": [
            "\n"
          ],
          "name": "stderr"
        }
      ]
    },
    {
      "cell_type": "markdown",
      "metadata": {
        "id": "8qM26Bzu94Ss",
        "colab_type": "text"
      },
      "source": [
        "Visualize some images"
      ]
    },
    {
      "cell_type": "code",
      "metadata": {
        "id": "8_I6Q0qG-f6p",
        "colab_type": "code",
        "outputId": "f59bfd76-2f53-4486-c8e3-bc8ffd158e23",
        "colab": {
          "base_uri": "https://localhost:8080/",
          "height": 499
        }
      },
      "source": [
        "labels_map = {0 : 'T-Shirt', 1 : 'Trouser', 2 : 'Pullover', 3 : 'Dress', 4 : 'Coat', 5 : 'Sandal', 6 : 'Shirt', 7 : 'Sneaker', 8 : 'Bag', 9 : 'Ankle Boot'};\n",
        "fig = plt.figure(figsize=(8,8));\n",
        "columns = 4;\n",
        "rows = 5;\n",
        "for i in range(1, columns*rows +1):\n",
        "    img_xy = np.random.randint(len(trainset));\n",
        "    img = trainset[img_xy][0][0,:,:]\n",
        "    fig.add_subplot(rows, columns, i)\n",
        "    plt.title(labels_map[trainset[img_xy][1]])\n",
        "    plt.axis('off')\n",
        "    plt.imshow(img, cmap='gray')\n",
        "plt.show()"
      ],
      "execution_count": 0,
      "outputs": [
        {
          "output_type": "display_data",
          "data": {
            "image/png": "[encoded data removed]",
            "text/plain": [
              "<Figure size 576x576 with 20 Axes>"
            ]
          },
          "metadata": {
            "tags": []
          }
        }
      ]
    },
    {
      "cell_type": "markdown",
      "metadata": {
        "id": "EvJIbO-zBSSC",
        "colab_type": "text"
      },
      "source": [
        "Construct following networks:\n",
        "\n",
        "\n",
        "1.   Fully Connected Network\n",
        "\n"
      ]
    },
    {
      "cell_type": "code",
      "metadata": {
        "id": "ujb-pEMLEe73",
        "colab_type": "code",
        "colab": {}
      },
      "source": [
        "class FullyConnectedNetwork(nn.Module):\n",
        "    \n",
        "    # hidden_layer should be between 1 ~ 3\n",
        "    def __init__(self, input_size= 28*28, hidden_size=1024, hidden_layer=2, output_size=10):\n",
        "        super(FullyConnectedNetwork, self).__init__()\n",
        "        \n",
        "        self.hidden_layer = hidden_layer\n",
        "        if hidden_layer == 1:\n",
        "            self.fc1 = nn.Linear(input_size, output_size)\n",
        "        elif hidden_layer == 2:\n",
        "            self.fc1 = nn.Linear(input_size, hidden_size)\n",
        "            self.fc2 = nn.Linear(hidden_size, output_size)\n",
        "        elif hidden_layer == 3:\n",
        "            self.fc1 = nn.Linear(input_size, hidden_size)\n",
        "            self.fc2 = nn.Linear(hidden_size, hidden_size)\n",
        "            self.fc3 = nn.Linear(hidden_size, output_size)\n",
        "        \n",
        "    def forward(self, x) :\n",
        "        # x: trainset\n",
        "        \n",
        "        if self.hidden_layer == 1:\n",
        "            x = F.log_softmax(self.fc1(x), dim=1)\n",
        "            return x\n",
        "        elif self.hidden_layer == 2:\n",
        "            x = F.relu(self.fc1(x))\n",
        "            x = F.log_softmax(self.fc2(x), dim=1)\n",
        "            return x\n",
        "        elif self.hidden_layer == 3:\n",
        "            x = F.relu(self.fc1(x))\n",
        "            x = F.relu(self.fc2(x))\n",
        "            x = F.log_softmax(self.fc3(x), dim=1)\n",
        "            return x"
      ],
      "execution_count": 0,
      "outputs": []
    },
    {
      "cell_type": "markdown",
      "metadata": {
        "id": "iUz_vxQhOhCY",
        "colab_type": "text"
      },
      "source": [
        "2. LeNet (CNN)"
      ]
    },
    {
      "cell_type": "code",
      "metadata": {
        "id": "Y3B7tFz6Ogxs",
        "colab_type": "code",
        "colab": {}
      },
      "source": [
        "class LeNet(nn.Module):\n",
        "    def __init__(self):\n",
        "        super(LeNet, self).__init__()\n",
        "        self.layer1 = nn.Sequential( nn.Conv2d(1, 6,  kernel_size=5, padding=2), nn.BatchNorm2d(6),  nn.ReLU(), nn.MaxPool2d(2))\n",
        "        self.layer2 = nn.Sequential( nn.Conv2d(6, 16, kernel_size=5, padding=2), nn.BatchNorm2d(16), nn.ReLU(), nn.MaxPool2d(2))\n",
        "        self.fc1    = nn.Sequential( nn.Linear(7*7*16, 120), nn.ReLU())\n",
        "        self.fc2    = nn.Sequential( nn.Linear(120, 84),     nn.ReLU())\n",
        "        self.fc3    = nn.Sequential( nn.Linear(84, 10),      nn.ReLU())\n",
        "        \n",
        "    def forward(self, x):\n",
        "        x = self.layer1(x)\n",
        "        x = self.layer2(x)\n",
        "        \n",
        "        x = x.view(x.size(0), -1)\n",
        "        \n",
        "        x = self.fc1(x)\n",
        "        x = self.fc2(x)\n",
        "        x = F.log_softmax(self.fc3(x), dim=1)\n",
        "        \n",
        "        return x"
      ],
      "execution_count": 0,
      "outputs": []
    },
    {
      "cell_type": "code",
      "metadata": {
        "id": "zOnaElRjhsdq",
        "colab_type": "code",
        "colab": {}
      },
      "source": [
        "# model: either FCN(Fully Connected Network) or CNN (LeNet)\n",
        "def train(MODEL, EPOCH=30, OPTIMIZER=\"SGD\", LEARNING_RATE=0.001, LOSS_FUNCTION=\"CrossEntropy\", MOMENTUM=0.9, WEIGHT_DECAY=0.0, BATCH_SIZE=100, SHOW_PROCESS=True):\n",
        "    \n",
        "    trainloader = torch.utils.data.DataLoader(trainset, batch_size=BATCH_SIZE, shuffle=True, num_workers=2)\n",
        "    \n",
        "    if MODEL == \"FCN\":\n",
        "        net = FullyConnectedNetwork()\n",
        "    elif MODEL == \"CNN\":\n",
        "        net = LeNet()\n",
        "    \n",
        "    if SHOW_PROCESS: print(net)\n",
        "    \n",
        "    # initialize optimizers\n",
        "    # create a stochastic gradient descent optimizer\n",
        "    if OPTIMIZER== \"SGD\":         \n",
        "        optimizer = optim.SGD(net.parameters(), lr=LEARNING_RATE, momentum=MOMENTUM, weight_decay=WEIGHT_DECAY)\n",
        "    elif OPTIMIZER== \"Adagrad\":  \n",
        "        optimizer = optim.Adagrad(net.parameters(), lr=LEARNING_RATE, weight_decay=WEIGHT_DECAY)\n",
        "    elif OPTIMIZER== \"Adadelta\":  \n",
        "        optimizer = optim.Adadelta(net.parameters(), lr=LEARNING_RATE, weight_decay=WEIGHT_DECAY)\n",
        "    elif OPTIMIZER== \"Adam\": \n",
        "        optimizer = optim.Adam(net.parameters(), lr=LEARNING_RATE, weight_decay=WEIGHT_DECAY)\n",
        "    elif OPTIMIZER== \"RMSprop\": \n",
        "        optimizer = optim.Adam(net.parameters(), lr=LEARNING_RATE, weight_decay=WEIGHT_DECAY)\n",
        "        \n",
        "    # create a loss function\n",
        "    if LOSS_FUNCTION == \"CrossEntropy\": \n",
        "        criterion = nn.CrossEntropyLoss()\n",
        "    elif LOSS_FUNCTION == \"L1\": \n",
        "        criterion = nn.L1Loss()\n",
        "    elif LOSS_FUNCTION == \"MSE\": \n",
        "        criterion = nn.MSELoss() # squared L2 loss\n",
        "    elif LOSS_FUNCTION == \"NLL\": \n",
        "        criterion = nn.NLLLoss()\n",
        "    elif LOSS_FUNCTION == \"KLD\": \n",
        "        criterion = nn.KLDivLoss()\n",
        "        \n",
        "    losses = []       # for visualizing the loss\n",
        "    running_time = 0  # for visualizing running time\n",
        "    start_time = time.time() # for running time meausre\n",
        "    \n",
        "    epoch = range(EPOCH)\n",
        "    for e in epoch:\n",
        "\n",
        "        for batch_idx, (images, labels) in enumerate(trainloader, 0):\n",
        "\n",
        "            # resize data from (batch_size, 1, 28, 28) to (batch_size, 28*28)\n",
        "            if MODEL == \"FCN\": images = images.view(-1, 28*28)\n",
        "\n",
        "            # zero the parameter gradients\n",
        "            optimizer.zero_grad()\n",
        "\n",
        "            # forward + backward + optimize\n",
        "            outputs = net(images)\n",
        "            loss = criterion(outputs, labels)\n",
        "            loss.backward()\n",
        "            optimizer.step()\n",
        "        # end of inner for loop \n",
        "        \n",
        "        # every end of the epoch\n",
        "        # calcluate running time\n",
        "        cur_time = time.time()\n",
        "        elapsed_time = cur_time - start_time\n",
        "        \n",
        "        # append losses & time for plotting\n",
        "        losses.append(loss.item())\n",
        "        running_time += elapsed_time\n",
        "        \n",
        "        # print statistics\n",
        "        if SHOW_PROCESS:\n",
        "            print('Train Epoch:{:>3} | Loss: {:>.6f} | Elapsed Time: {:<5} seconds '.format(e,  loss.item(), round(elapsed_time, 2)))\n",
        "        \n",
        "        # reset variables for next loop\n",
        "        start_time = time.time()\n",
        "\n",
        "    # loss validation\n",
        "    plt.xkcd()\n",
        "    plt.xlabel('Epoch #')\n",
        "    plt.ylabel('Loss')\n",
        "    plt.plot(losses)\n",
        "    plt.show()\n",
        "    \n",
        "    # running time summary\n",
        "    print(\"Total running time:\", round(running_time, 2), \"seconds\")\n",
        "    print(\"Average running time per epoch:\", round(running_time/EPOCH, 2), \"seconds\")\n",
        "    \n",
        "    return net\n",
        "    \n",
        "def test(NET, MODEL):\n",
        "    \n",
        "    testloader = torch.utils.data.DataLoader(testset, batch_size=100, shuffle=False, num_workers=2)\n",
        "    \n",
        "    net = NET\n",
        "    \n",
        "    correct = 0\n",
        "    total = 0\n",
        "    with torch.no_grad():\n",
        "        for (images, labels) in testloader:\n",
        "            \n",
        "            # resize data from (batch_size, 1, 28, 28) to (batch_size, 28*28)\n",
        "            if MODEL == \"FCN\": images = images.view(-1, 28*28)\n",
        "            \n",
        "            outputs = net(images)\n",
        "            _, predicted = torch.max(outputs.data, 1)\n",
        "            total += labels.size(0)\n",
        "            correct += (predicted == labels).sum().item()\n",
        "\n",
        "    print('Accuracy of the network on the {} test images: {:.6f}'.format(len(testset), round(100*correct/total, 8)))\n",
        "    \n",
        "    return round(100*correct/total, 4)"
      ],
      "execution_count": 0,
      "outputs": []
    },
    {
      "cell_type": "markdown",
      "metadata": {
        "id": "ZVBZwjUqNCLK",
        "colab_type": "text"
      },
      "source": [
        "Task1 Main Body"
      ]
    },
    {
      "cell_type": "code",
      "metadata": {
        "id": "in26I9pGjEU8",
        "colab_type": "code",
        "outputId": "5bfeef60-78a6-4674-fa7d-79fa1b19d6b8",
        "colab": {
          "base_uri": "https://localhost:8080/",
          "height": 349
        }
      },
      "source": [
        "FCN = train(\"FCN\")\n",
        "_ = test(FCN, \"FCN\")"
      ],
      "execution_count": 0,
      "outputs": [
        {
          "output_type": "stream",
          "text": [
            "FullyConnectedNetwork(\n",
            "  (fc1): Linear(in_features=784, out_features=1024, bias=True)\n",
            "  (fc2): Linear(in_features=1024, out_features=10, bias=True)\n",
            ")\n",
            "Train Epoch:  0 | Loss: 0.636269 | Elapsed Time: 8.91  seconds \n",
            "Train Epoch:  1 | Loss: 0.382775 | Elapsed Time: 9.15  seconds \n",
            "Train Epoch:  2 | Loss: 0.415235 | Elapsed Time: 9.24  seconds \n",
            "Train Epoch:  3 | Loss: 0.349660 | Elapsed Time: 9.27  seconds \n",
            "Train Epoch:  4 | Loss: 0.370639 | Elapsed Time: 9.39  seconds \n",
            "Train Epoch:  5 | Loss: 0.278645 | Elapsed Time: 11.23 seconds \n",
            "Train Epoch:  6 | Loss: 0.559820 | Elapsed Time: 9.2   seconds \n",
            "Train Epoch:  7 | Loss: 0.520429 | Elapsed Time: 9.3   seconds \n",
            "Train Epoch:  8 | Loss: 0.449955 | Elapsed Time: 9.26  seconds \n",
            "Train Epoch:  9 | Loss: 0.311175 | Elapsed Time: 9.31  seconds \n",
            "Train Epoch: 10 | Loss: 0.373190 | Elapsed Time: 9.67  seconds \n",
            "Train Epoch: 11 | Loss: 0.359227 | Elapsed Time: 9.72  seconds \n",
            "Train Epoch: 12 | Loss: 0.311490 | Elapsed Time: 9.8   seconds \n",
            "Train Epoch: 13 | Loss: 0.366619 | Elapsed Time: 11.4  seconds \n",
            "Train Epoch: 14 | Loss: 0.172555 | Elapsed Time: 9.84  seconds \n"
          ],
          "name": "stdout"
        }
      ]
    },
    {
      "cell_type": "code",
      "metadata": {
        "id": "hyRU4iT3j7LC",
        "colab_type": "code",
        "colab": {}
      },
      "source": [
        "CNN = train(\"CNN\")\n",
        "_ = test(CNN, \"CNN\")"
      ],
      "execution_count": 0,
      "outputs": []
    },
    {
      "cell_type": "markdown",
      "metadata": {
        "id": "J4Y-HE4oR09x",
        "colab_type": "text"
      },
      "source": [
        "Task2 Main Body"
      ]
    },
    {
      "cell_type": "markdown",
      "metadata": {
        "id": "_9xDQUVdXOQh",
        "colab_type": "text"
      },
      "source": [
        "1. Adjust Optimizer Parameters\n",
        "\n"
      ]
    },
    {
      "cell_type": "markdown",
      "metadata": {
        "id": "1uxxCHcFrEBs",
        "colab_type": "text"
      },
      "source": [
        "A. Learning Rate"
      ]
    },
    {
      "cell_type": "code",
      "metadata": {
        "id": "xN-3L9GIR0ZY",
        "colab_type": "code",
        "colab": {}
      },
      "source": [
        "learning_rate_list = [1e-05, 1e-04, 1e-03, 0.01, 0.1]\n",
        "for l in learning_rate_list:\n",
        "    print(\"----------------------- Learnig Rate:\", l, \"-----------------------\")\n",
        "    CNN = train(\"CNN\", LEARNING_RATE=l, SHOW_PROCESS=False)\n",
        "    _ = test(CNN, \"CNN\")"
      ],
      "execution_count": 0,
      "outputs": []
    },
    {
      "cell_type": "markdown",
      "metadata": {
        "id": "d0VGwis0rKBs",
        "colab_type": "text"
      },
      "source": [
        "B.   Momentum"
      ]
    },
    {
      "cell_type": "code",
      "metadata": {
        "id": "C_ICbNgYR0VA",
        "colab_type": "code",
        "colab": {}
      },
      "source": [
        "momentum_list = [0, 0.3, 0.6, 0.9, 1.0]\n",
        "for m in momentum_list:\n",
        "    print(\"----------------------- Momentum:\", m, \"-----------------------\")    \n",
        "    CNN = train(\"CNN\", MOMENTUM=m, SHOW_PROCESS=False)\n",
        "    _ = test(CNN, \"CNN\")"
      ],
      "execution_count": 0,
      "outputs": []
    },
    {
      "cell_type": "markdown",
      "metadata": {
        "id": "JrGXJKMnrMbB",
        "colab_type": "text"
      },
      "source": [
        "C.   L2 Regularization Penalty"
      ]
    },
    {
      "cell_type": "code",
      "metadata": {
        "id": "D30Zz3APoPnl",
        "colab_type": "code",
        "colab": {}
      },
      "source": [
        "weight_decay_list = [0, 1e-05, 1e-04, 1e-03, 0.01]\n",
        "for w in weight_decay_list:\n",
        "    print(\"----------------------- L2 Regularization:\", w, \"-----------------------\")    \n",
        "    CNN = train(\"CNN\", WEIGHT_DECAY=w, SHOW_PROCESS=False)\n",
        "    _ = test(CNN, \"CNN\")"
      ],
      "execution_count": 0,
      "outputs": []
    },
    {
      "cell_type": "markdown",
      "metadata": {
        "id": "f18IEZ9-rOhJ",
        "colab_type": "text"
      },
      "source": [
        "2. Try Different Loss Function"
      ]
    },
    {
      "cell_type": "code",
      "metadata": {
        "id": "iT7E0KRPrPZt",
        "colab_type": "code",
        "colab": {}
      },
      "source": [
        "loss_function_list = [\"CrossEntropy\", \"L1\", \"MSE\", \"NLL\", \"KLD\"]\n",
        "for l in loss_function_list:\n",
        "    print(\"----------------------- Loss Function:\", l, \"-----------------------\")\n",
        "    CNN = train(\"CNN\", LOSS_FUNCTION=l, SHOW_PROCESS=False)\n",
        "    _ = test(CNN, \"CNN\")"
      ],
      "execution_count": 0,
      "outputs": []
    },
    {
      "cell_type": "markdown",
      "metadata": {
        "id": "-A1c_LtXsJjb",
        "colab_type": "text"
      },
      "source": [
        "3. Use Different Batch Size"
      ]
    },
    {
      "cell_type": "code",
      "metadata": {
        "id": "n5DjWWPSsMdo",
        "colab_type": "code",
        "colab": {}
      },
      "source": [
        "batch_size_list = [32, 64, 128, 256, 512]\n",
        "for b in batch_size_list:\n",
        "    print(\"----------------------- Batch Size:\", b, \"-----------------------\")\n",
        "    CNN = train(\"CNN\", BATCH_SIZE=b, SHOW_PROCESS=False)\n",
        "    _ = test(CNN, \"CNN\")"
      ],
      "execution_count": 0,
      "outputs": []
    },
    {
      "cell_type": "markdown",
      "metadata": {
        "id": "d0XjflNmst0b",
        "colab_type": "text"
      },
      "source": [
        "4. Change Other hyper parameters and model elements\n",
        "\n",
        "In my case, I tried to try different optimizers"
      ]
    },
    {
      "cell_type": "code",
      "metadata": {
        "id": "S8UWh-D5szzr",
        "colab_type": "code",
        "colab": {}
      },
      "source": [
        "optimizer_list = [\"SGD\", \"Adagrad\", \"Adadelta\", \"Adam\", \"RMSprop\"]\n",
        "for o in optimizer_list:\n",
        "    print(\"----------------------- Batch Size:\", o, \"-----------------------\")\n",
        "    CNN = train(\"CNN\", OPTIMIZER=o, SHOW_PROCESS=False)\n",
        "    _ = test(CNN, \"CNN\")"
      ],
      "execution_count": 0,
      "outputs": []
    },
    {
      "cell_type": "code",
      "metadata": {
        "id": "RcJXQe04szdX",
        "colab_type": "code",
        "colab": {}
      },
      "source": [
        ""
      ],
      "execution_count": 0,
      "outputs": []
    }
  ]
}